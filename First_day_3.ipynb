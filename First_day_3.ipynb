{
 "cells": [
  {
   "cell_type": "code",
   "execution_count": 1,
   "id": "5d4dda04-d6d3-47a2-8c7f-9619d80830d7",
   "metadata": {},
   "outputs": [],
   "source": [
    "# Write a program which can compute the factorial of a given numbers.\n",
    "# The results should be printed in a comma-separated sequence on a single line.\n",
    "# Suppose the following input is supplied to the program:\n",
    "# 8\n",
    "# Then, the output should be:\n",
    "# 40320\n",
    "\n",
    "# Hints:\n",
    "# In case of input data being supplied to the question, it should be assumed to be a console input.\n"
   ]
  },
  {
   "cell_type": "code",
   "execution_count": 3,
   "id": "2274fae3-95a7-4e07-addf-7062365a4567",
   "metadata": {},
   "outputs": [],
   "source": [
    "def fact(x):\n",
    "    if x == 0:\n",
    "        return 1\n",
    "    return x * fact(x - 1)\n"
   ]
  },
  {
   "cell_type": "code",
   "execution_count": 7,
   "id": "17b82f21-83ce-4283-b603-3a9057b46a78",
   "metadata": {},
   "outputs": [
    {
     "name": "stdin",
     "output_type": "stream",
     "text": [
      "Write Number :  8\n"
     ]
    }
   ],
   "source": [
    "x=int(input(\"Write Number : \"))"
   ]
  },
  {
   "cell_type": "code",
   "execution_count": 8,
   "id": "a948f0c1-479a-4cef-b7d9-342b9c70eb84",
   "metadata": {},
   "outputs": [
    {
     "name": "stdout",
     "output_type": "stream",
     "text": [
      "40320\n"
     ]
    }
   ],
   "source": [
    "print(fact(x))"
   ]
  },
  {
   "cell_type": "code",
   "execution_count": null,
   "id": "f966b964-dcd2-4aeb-afd1-2b5011fc7050",
   "metadata": {},
   "outputs": [],
   "source": []
  }
 ],
 "metadata": {
  "kernelspec": {
   "display_name": "Python 3 (ipykernel)",
   "language": "python",
   "name": "python3"
  },
  "language_info": {
   "codemirror_mode": {
    "name": "ipython",
    "version": 3
   },
   "file_extension": ".py",
   "mimetype": "text/x-python",
   "name": "python",
   "nbconvert_exporter": "python",
   "pygments_lexer": "ipython3",
   "version": "3.13.1"
  }
 },
 "nbformat": 4,
 "nbformat_minor": 5
}
